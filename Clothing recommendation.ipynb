{
 "cells": [
  {
   "cell_type": "code",
   "execution_count": 32,
   "metadata": {},
   "outputs": [
    {
     "data": {
      "text/plain": [
       "\"Clothing\""
      ]
     },
     "execution_count": 32,
     "metadata": {},
     "output_type": "execute_result"
    }
   ],
   "source": [
    "#c=Creating a SQLite database having CSV file data\n",
    "using CSV,SQLite\n",
    "db = SQLite.DB()\n",
    "tbl = CSV.File(\"C:/Users/raash/OneDrive/Documents/Clothing.csv\") |> SQLite.load!(db, \"Clothing\")"
   ]
  },
  {
   "cell_type": "code",
   "execution_count": null,
   "metadata": {},
   "outputs": [],
   "source": []
  },
  {
   "cell_type": "code",
   "execution_count": 37,
   "metadata": {},
   "outputs": [
    {
     "data": {
      "text/plain": [
       "200"
      ]
     },
     "execution_count": 37,
     "metadata": {},
     "output_type": "execute_result"
    }
   ],
   "source": [
    "ENV[\"LINES\"]=200"
   ]
  },
  {
   "cell_type": "code",
   "execution_count": 42,
   "metadata": {},
   "outputs": [
    {
     "data": {
      "text/html": [
       "<table class=\"data-frame\"><thead><tr><th></th><th>UserID</th><th>Products</th><th>Pricing</th><th>Rating</th></tr><tr><th></th><th>Int64</th><th>String</th><th>Int64</th><th>Int64</th></tr></thead><tbody><p>34 rows × 4 columns</p><tr><th>1</th><td>1</td><td>Jersey Top</td><td>399</td><td>3</td></tr><tr><th>2</th><td>1</td><td>Flowral Pink Top</td><td>599</td><td>3</td></tr><tr><th>3</th><td>2</td><td>Distressed Blue Denim</td><td>1649</td><td>2</td></tr><tr><th>4</th><td>2</td><td>Brushed Biker Jacket</td><td>3999</td><td>5</td></tr><tr><th>5</th><td>2</td><td>2-Pack Jersey Tops</td><td>1299</td><td>0</td></tr><tr><th>6</th><td>3</td><td>Bellbottomed Corduroy jeans</td><td>1799</td><td>3</td></tr><tr><th>7</th><td>4</td><td>Blue Jumper</td><td>899</td><td>5</td></tr><tr><th>8</th><td>5</td><td>Light Blue Cardigan</td><td>999</td><td>0</td></tr><tr><th>9</th><td>6</td><td>Dark Blue Mom Jeans</td><td>1499</td><td>2</td></tr><tr><th>10</th><td>7</td><td>Cropped Overall</td><td>1399</td><td>1</td></tr><tr><th>11</th><td>8</td><td>Zipped Dleece Top</td><td>1999</td><td>4</td></tr><tr><th>12</th><td>9</td><td>Pile-Lined Parka</td><td>3999</td><td>0</td></tr><tr><th>13</th><td>10</td><td>Puff Sleeved Jumper</td><td>1499</td><td>0</td></tr><tr><th>14</th><td>11</td><td>Hooded Jacket</td><td>1499</td><td>4</td></tr><tr><th>15</th><td>11</td><td>Boxy Puffer Jacket</td><td>2999</td><td>1</td></tr><tr><th>16</th><td>11</td><td>Cotton Twill Parka Jacket</td><td>2999</td><td>4</td></tr><tr><th>17</th><td>11</td><td>Solid Cotton Hoodie</td><td>1999</td><td>2</td></tr><tr><th>18</th><td>12</td><td>Jersey T-Shirt</td><td>399</td><td>2</td></tr><tr><th>19</th><td>13</td><td>Wool-Blend Coat</td><td>4499</td><td>3</td></tr><tr><th>20</th><td>14</td><td>Padded Hooded Outdoor Jacket</td><td>2999</td><td>5</td></tr><tr><th>21</th><td>15</td><td>Solid Ribbed Top</td><td>799</td><td>2</td></tr><tr><th>22</th><td>16</td><td>Straight-Cut Jacket</td><td>2299</td><td>1</td></tr><tr><th>23</th><td>17</td><td>Fitted Blazer</td><td>2299</td><td>0</td></tr><tr><th>24</th><td>18</td><td>Knitted Jumper</td><td>1499</td><td>3</td></tr><tr><th>25</th><td>19</td><td>Cigarette trouser</td><td>1499</td><td>2</td></tr><tr><th>26</th><td>20</td><td>Faux-Lined Jacket</td><td>4499</td><td>1</td></tr><tr><th>27</th><td>21</td><td>Oversized Sweatshirt</td><td>1499</td><td>1</td></tr><tr><th>28</th><td>21</td><td>Satin Nightslip</td><td>1299</td><td>2</td></tr><tr><th>29</th><td>22</td><td>Teddy Coat </td><td>4499</td><td>4</td></tr><tr><th>30</th><td>23</td><td>Solid Drapped Top</td><td>799</td><td>5</td></tr><tr><th>31</th><td>23</td><td>Ribbed Strappy Top</td><td>799</td><td>3</td></tr><tr><th>32</th><td>24</td><td>Hooded Puffer Jacket </td><td>4499</td><td>3</td></tr><tr><th>33</th><td>25</td><td>Knitted Cardigan</td><td>1299</td><td>2</td></tr><tr><th>34</th><td>25</td><td>Solid Corduroy Shirt</td><td>1499</td><td>3</td></tr></tbody></table>"
      ],
      "text/latex": [
       "\\begin{tabular}{r|cccc}\n",
       "\t& UserID & Products & Pricing & Rating\\\\\n",
       "\t\\hline\n",
       "\t& Int64 & String & Int64 & Int64\\\\\n",
       "\t\\hline\n",
       "\t1 & 1 & Jersey Top & 399 & 3 \\\\\n",
       "\t2 & 1 & Flowral Pink Top & 599 & 3 \\\\\n",
       "\t3 & 2 & Distressed Blue Denim & 1649 & 2 \\\\\n",
       "\t4 & 2 & Brushed Biker Jacket & 3999 & 5 \\\\\n",
       "\t5 & 2 & 2-Pack Jersey Tops & 1299 & 0 \\\\\n",
       "\t6 & 3 & Bellbottomed Corduroy jeans & 1799 & 3 \\\\\n",
       "\t7 & 4 & Blue Jumper & 899 & 5 \\\\\n",
       "\t8 & 5 & Light Blue Cardigan & 999 & 0 \\\\\n",
       "\t9 & 6 & Dark Blue Mom Jeans & 1499 & 2 \\\\\n",
       "\t10 & 7 & Cropped Overall & 1399 & 1 \\\\\n",
       "\t11 & 8 & Zipped Dleece Top & 1999 & 4 \\\\\n",
       "\t12 & 9 & Pile-Lined Parka & 3999 & 0 \\\\\n",
       "\t13 & 10 & Puff Sleeved Jumper & 1499 & 0 \\\\\n",
       "\t14 & 11 & Hooded Jacket & 1499 & 4 \\\\\n",
       "\t15 & 11 & Boxy Puffer Jacket & 2999 & 1 \\\\\n",
       "\t16 & 11 & Cotton Twill Parka Jacket & 2999 & 4 \\\\\n",
       "\t17 & 11 & Solid Cotton Hoodie & 1999 & 2 \\\\\n",
       "\t18 & 12 & Jersey T-Shirt & 399 & 2 \\\\\n",
       "\t19 & 13 & Wool-Blend Coat & 4499 & 3 \\\\\n",
       "\t20 & 14 & Padded Hooded Outdoor Jacket & 2999 & 5 \\\\\n",
       "\t21 & 15 & Solid Ribbed Top & 799 & 2 \\\\\n",
       "\t22 & 16 & Straight-Cut Jacket & 2299 & 1 \\\\\n",
       "\t23 & 17 & Fitted Blazer & 2299 & 0 \\\\\n",
       "\t24 & 18 & Knitted Jumper & 1499 & 3 \\\\\n",
       "\t25 & 19 & Cigarette trouser & 1499 & 2 \\\\\n",
       "\t26 & 20 & Faux-Lined Jacket & 4499 & 1 \\\\\n",
       "\t27 & 21 & Oversized Sweatshirt & 1499 & 1 \\\\\n",
       "\t28 & 21 & Satin Nightslip & 1299 & 2 \\\\\n",
       "\t29 & 22 & Teddy Coat  & 4499 & 4 \\\\\n",
       "\t30 & 23 & Solid Drapped Top & 799 & 5 \\\\\n",
       "\t31 & 23 & Ribbed Strappy Top & 799 & 3 \\\\\n",
       "\t32 & 24 & Hooded Puffer Jacket  & 4499 & 3 \\\\\n",
       "\t33 & 25 & Knitted Cardigan & 1299 & 2 \\\\\n",
       "\t34 & 25 & Solid Corduroy Shirt & 1499 & 3 \\\\\n",
       "\\end{tabular}\n"
      ],
      "text/plain": [
       "34×4 DataFrame\n",
       "│ Row │ UserID │ Products                     │ Pricing │ Rating │\n",
       "│     │ \u001b[90mInt64\u001b[39m  │ \u001b[90mString\u001b[39m                       │ \u001b[90mInt64\u001b[39m   │ \u001b[90mInt64\u001b[39m  │\n",
       "├─────┼────────┼──────────────────────────────┼─────────┼────────┤\n",
       "│ 1   │ 1      │ Jersey Top                   │ 399     │ 3      │\n",
       "│ 2   │ 1      │ Flowral Pink Top             │ 599     │ 3      │\n",
       "│ 3   │ 2      │ Distressed Blue Denim        │ 1649    │ 2      │\n",
       "│ 4   │ 2      │ Brushed Biker Jacket         │ 3999    │ 5      │\n",
       "│ 5   │ 2      │ 2-Pack Jersey Tops           │ 1299    │ 0      │\n",
       "│ 6   │ 3      │ Bellbottomed Corduroy jeans  │ 1799    │ 3      │\n",
       "│ 7   │ 4      │ Blue Jumper                  │ 899     │ 5      │\n",
       "│ 8   │ 5      │ Light Blue Cardigan          │ 999     │ 0      │\n",
       "│ 9   │ 6      │ Dark Blue Mom Jeans          │ 1499    │ 2      │\n",
       "│ 10  │ 7      │ Cropped Overall              │ 1399    │ 1      │\n",
       "│ 11  │ 8      │ Zipped Dleece Top            │ 1999    │ 4      │\n",
       "│ 12  │ 9      │ Pile-Lined Parka             │ 3999    │ 0      │\n",
       "│ 13  │ 10     │ Puff Sleeved Jumper          │ 1499    │ 0      │\n",
       "│ 14  │ 11     │ Hooded Jacket                │ 1499    │ 4      │\n",
       "│ 15  │ 11     │ Boxy Puffer Jacket           │ 2999    │ 1      │\n",
       "│ 16  │ 11     │ Cotton Twill Parka Jacket    │ 2999    │ 4      │\n",
       "│ 17  │ 11     │ Solid Cotton Hoodie          │ 1999    │ 2      │\n",
       "│ 18  │ 12     │ Jersey T-Shirt               │ 399     │ 2      │\n",
       "│ 19  │ 13     │ Wool-Blend Coat              │ 4499    │ 3      │\n",
       "│ 20  │ 14     │ Padded Hooded Outdoor Jacket │ 2999    │ 5      │\n",
       "│ 21  │ 15     │ Solid Ribbed Top             │ 799     │ 2      │\n",
       "│ 22  │ 16     │ Straight-Cut Jacket          │ 2299    │ 1      │\n",
       "│ 23  │ 17     │ Fitted Blazer                │ 2299    │ 0      │\n",
       "│ 24  │ 18     │ Knitted Jumper               │ 1499    │ 3      │\n",
       "│ 25  │ 19     │ Cigarette trouser            │ 1499    │ 2      │\n",
       "│ 26  │ 20     │ Faux-Lined Jacket            │ 4499    │ 1      │\n",
       "│ 27  │ 21     │ Oversized Sweatshirt         │ 1499    │ 1      │\n",
       "│ 28  │ 21     │ Satin Nightslip              │ 1299    │ 2      │\n",
       "│ 29  │ 22     │ Teddy Coat                   │ 4499    │ 4      │\n",
       "│ 30  │ 23     │ Solid Drapped Top            │ 799     │ 5      │\n",
       "│ 31  │ 23     │ Ribbed Strappy Top           │ 799     │ 3      │\n",
       "│ 32  │ 24     │ Hooded Puffer Jacket         │ 4499    │ 3      │\n",
       "│ 33  │ 25     │ Knitted Cardigan             │ 1299    │ 2      │\n",
       "│ 34  │ 25     │ Solid Corduroy Shirt         │ 1499    │ 3      │"
      ]
     },
     "execution_count": 42,
     "metadata": {},
     "output_type": "execute_result"
    }
   ],
   "source": [
    "#Query to retrieve all values of table\n",
    "using DataFrames\n",
    "DBInterface.execute(db, \"SELECT * FROM Clothing\") |> DataFrame"
   ]
  },
  {
   "cell_type": "code",
   "execution_count": 40,
   "metadata": {},
   "outputs": [
    {
     "data": {
      "text/html": [
       "<table class=\"data-frame\"><thead><tr><th></th><th>Products</th><th>Pricing</th></tr><tr><th></th><th>String</th><th>Int64</th></tr></thead><tbody><p>5 rows × 2 columns</p><tr><th>1</th><td>Bellbottomed Corduroy jeans</td><td>1799</td></tr><tr><th>2</th><td>Blue Jumper</td><td>899</td></tr><tr><th>3</th><td>Brushed Biker Jacket</td><td>3999</td></tr><tr><th>4</th><td>Cotton Twill Parka Jacket</td><td>2999</td></tr><tr><th>5</th><td>Hooded Jacket</td><td>1499</td></tr></tbody></table>"
      ],
      "text/latex": [
       "\\begin{tabular}{r|cc}\n",
       "\t& Products & Pricing\\\\\n",
       "\t\\hline\n",
       "\t& String & Int64\\\\\n",
       "\t\\hline\n",
       "\t1 & Bellbottomed Corduroy jeans & 1799 \\\\\n",
       "\t2 & Blue Jumper & 899 \\\\\n",
       "\t3 & Brushed Biker Jacket & 3999 \\\\\n",
       "\t4 & Cotton Twill Parka Jacket & 2999 \\\\\n",
       "\t5 & Hooded Jacket & 1499 \\\\\n",
       "\\end{tabular}\n"
      ],
      "text/plain": [
       "5×2 DataFrame\n",
       "│ Row │ Products                    │ Pricing │\n",
       "│     │ \u001b[90mString\u001b[39m                      │ \u001b[90mInt64\u001b[39m   │\n",
       "├─────┼─────────────────────────────┼─────────┤\n",
       "│ 1   │ Bellbottomed Corduroy jeans │ 1799    │\n",
       "│ 2   │ Blue Jumper                 │ 899     │\n",
       "│ 3   │ Brushed Biker Jacket        │ 3999    │\n",
       "│ 4   │ Cotton Twill Parka Jacket   │ 2999    │\n",
       "│ 5   │ Hooded Jacket               │ 1499    │"
      ]
     },
     "execution_count": 40,
     "metadata": {},
     "output_type": "execute_result"
    }
   ],
   "source": [
    "DBInterface.execute(db,\"SELECT a2.Products,a2.Pricing\n",
    "FROM Clothing a1 INNER JOIN Clothing a2\n",
    "     ON a1.UserID = 1\n",
    "     Where a2.UserID !=1\n",
    "     AND a2.Products NOT IN ( SELECT Products\n",
    "                           FROM Clothing\n",
    "                           WHERE UserID = 1)\n",
    "GROUP BY(a2.Products)\n",
    "HAVING AVG(a2.Rating)>=3\n",
    "  LIMIT 5  \"\n",
    "    ) |>DataFrame\n"
   ]
  },
  {
   "cell_type": "code",
   "execution_count": null,
   "metadata": {},
   "outputs": [],
   "source": []
  }
 ],
 "metadata": {
  "kernelspec": {
   "display_name": "Julia 1.5.3",
   "language": "julia",
   "name": "julia-1.5"
  },
  "language_info": {
   "file_extension": ".jl",
   "mimetype": "application/julia",
   "name": "julia",
   "version": "1.5.3"
  }
 },
 "nbformat": 4,
 "nbformat_minor": 4
}
